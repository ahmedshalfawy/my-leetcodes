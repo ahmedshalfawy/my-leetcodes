{
 "cells": [
  {
   "cell_type": "code",
   "execution_count": 1,
   "metadata": {},
   "outputs": [],
   "source": [
    "def twoSum( nums, target):\n",
    "    \"\"\"\n",
    "    :type nums: List[int]\n",
    "    :type target: int\n",
    "    :rtype: List[int]\n",
    "    \"\"\"\n",
    "    ind = 0 \n",
    "    while True :\n",
    "        n = nums[ind] #the first number\n",
    "        v = target - n #the second number\n",
    "        if v in nums : #ensure the 2nd num in the list\n",
    "            if nums.index(v) == ind : #ensure the 2nd num is not the 1st num\n",
    "                ind = ind + 1\n",
    "                continue \n",
    "            r = nums.index(v) \n",
    "            break\n",
    "        else: ind = ind + 1 \n",
    "    return [ind,r]"
   ]
  },
  {
   "cell_type": "code",
   "execution_count": null,
   "metadata": {},
   "outputs": [],
   "source": [
    "lst = input('type series of num:').split() #list of nums\n",
    "i = list(map(int,lst))\n",
    "r = int(input('type the sum:')) #the sum of the 2 nums\n",
    "# find the 2 nums index\n",
    "m = twoSum(i,r)\n",
    "m"
   ]
  }
 ],
 "metadata": {
  "kernelspec": {
   "display_name": "Python",
   "language": "python",
   "name": "conda-env-python-py"
  },
  "language_info": {
   "codemirror_mode": {
    "name": "ipython",
    "version": 3
   },
   "file_extension": ".py",
   "mimetype": "text/x-python",
   "name": "python",
   "nbconvert_exporter": "python",
   "pygments_lexer": "ipython3",
   "version": "3.6.10"
  }
 },
 "nbformat": 4,
 "nbformat_minor": 4
}
